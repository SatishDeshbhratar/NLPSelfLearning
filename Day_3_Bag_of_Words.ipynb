{
  "cells": [
    {
      "cell_type": "markdown",
      "metadata": {
        "id": "view-in-github",
        "colab_type": "text"
      },
      "source": [
        "<a href=\"https://colab.research.google.com/github/SatishDeshbhratar/NLPSelfLearning/blob/main/Day_3_Bag_of_Words.ipynb\" target=\"_parent\"><img src=\"https://colab.research.google.com/assets/colab-badge.svg\" alt=\"Open In Colab\"/></a>"
      ]
    },
    {
      "cell_type": "markdown",
      "metadata": {
        "id": "IoEY__070fDT"
      },
      "source": [
        "# <u> Bag-of-Words Model </u>\n",
        "\n",
        "Bag-of-words model is a way of representing text data when modeling text with machine learning algorithms. Machine learning algorithms cannot work with raw text directly; the text must be converted into well defined fixed-length(vector) numbers.\n",
        "\n",
        "## <u> What is a Bag-of-Words? </u>\n",
        "\n",
        "A bag-of-words is a representation of text that describes the occurrence of words within a document. It involves two things:\n",
        "- A vocabulary of known words.\n",
        "- A measure of the presence of known words.\n",
        "\n",
        "It is called a bag-of-words , because any information about the order or structure of words in the document is discarded. The model is only concerned with whether known words occur in the document, not where in the document. The complexity comes both in deciding how to design the vocabulary of known words (or tokens) and how to score the presence of known words.\n",
        "\n",
        "## <u> Example:</u>\n",
        "\n",
        "Below is a snippet of the first few lines of text from the book A Tale of Two Cities by Charles Dickens.\n",
        "\n",
        "$\\text {It was the best of times} $ <br/>\n",
        "$\\text {it was the worst of times,}  $  <br/>\n",
        "$\\text {it was the age of wisdom,} $ <br/>\n",
        "$\\text {it was the age of foolishness} $\n",
        "\n",
        "## <u>Bag-of-Words Model in SkLearn</u>\n",
        "\n",
        "### <u> Design the Vocabulary </u>\n",
        "\n",
        "Make a list of all of the words in our model vocabulary. The CountVectorizer provides a simple way to tokenize a collection of text documents and build a vocabulary of known words.\n",
        "- Create an instance of the CountVectorizer class.\n",
        "- Call the fit() function in order to learn a vocabulary from one or more documents."
      ]
    },
    {
      "cell_type": "code",
      "execution_count": null,
      "metadata": {
        "id": "braf-kFd0fDX",
        "outputId": "ff286118-78eb-46f1-8400-fad74cd8c056"
      },
      "outputs": [
        {
          "name": "stdout",
          "output_type": "stream",
          "text": [
            "['age', 'best', 'foolishness', 'it', 'of', 'the', 'times', 'was', 'wisdom', 'worst']\n"
          ]
        }
      ],
      "source": [
        "from sklearn.feature_extraction.text import CountVectorizer\n",
        "# Multiple documents\n",
        "text = [\"It was the best of times\", \"it was the worst of times\", \"it was the age of wisdom\", \"it was the age of foolishness\"] \n",
        "# create the transform\n",
        "vectorizer = CountVectorizer()\n",
        "# tokenize and build vocab\n",
        "vectorizer.fit(text)\n",
        "# summarize\n",
        "print(sorted(vectorizer.vocabulary_))"
      ]
    },
    {
      "cell_type": "markdown",
      "metadata": {
        "id": "EH-hGLWr0fDY"
      },
      "source": [
        "That is a vocabulary of 10 words from a corpus containing 24 words."
      ]
    },
    {
      "cell_type": "markdown",
      "metadata": {
        "id": "9LQ5Dpjj0fDY"
      },
      "source": [
        "\n",
        "\n",
        "### <u> Create Document Vectors </u>\n",
        "\n",
        "#### <u> Document Vectors with CountVectorizer </u>\n",
        "\n",
        "Next step is to score the words in each document. Because we know the vocabulary has 10 words, we can use a fixed-length document representation of 10, with one position in the vector to score each word. The simplest scoring method is to mark the presence of words as a boolean value, 0 for absent, 1 for present.\n",
        "\n",
        "- Call the transform() function on one or more documents as needed to encode each as a vector."
      ]
    },
    {
      "cell_type": "code",
      "execution_count": null,
      "metadata": {
        "id": "Ha0BsDQP0fDZ",
        "outputId": "987857a3-c83d-4273-fbd7-4ff008ff74bc"
      },
      "outputs": [
        {
          "name": "stdout",
          "output_type": "stream",
          "text": [
            "(4, 10)\n",
            "[[0 1 0 1 1 1 1 1 0 0]\n",
            " [0 0 0 1 1 1 1 1 0 1]\n",
            " [1 0 0 1 1 1 0 1 1 0]\n",
            " [1 0 1 1 1 1 0 1 0 0]]\n"
          ]
        }
      ],
      "source": [
        "# encode document\n",
        "vector = vectorizer.transform(text)\n",
        "# summarize encoded vector\n",
        "print(vector.shape)\n",
        "print(vector.toarray())"
      ]
    },
    {
      "cell_type": "markdown",
      "metadata": {
        "id": "fcLbR0260fDZ"
      },
      "source": [
        "The same vectorizer can be used on documents that contain words not included in the vocabulary. These words are ignored and no count is given in the resulting vector."
      ]
    },
    {
      "cell_type": "code",
      "execution_count": null,
      "metadata": {
        "id": "vhpqsqs00fDa",
        "outputId": "b293abb0-085a-4537-fadd-d18085e90271"
      },
      "outputs": [
        {
          "name": "stdout",
          "output_type": "stream",
          "text": [
            "[[0 0 0 0 0 3 1 0 0 0]]\n"
          ]
        }
      ],
      "source": [
        "# encode another document\n",
        "text2 = [\"the the the times\"]\n",
        "vector = vectorizer.transform(text2)\n",
        "print(vector.toarray())"
      ]
    },
    {
      "cell_type": "markdown",
      "metadata": {
        "id": "o2ghTfRq0fDa"
      },
      "source": [
        "The encoded vectors can then be used directly with a machine learning algorithm."
      ]
    },
    {
      "cell_type": "markdown",
      "metadata": {
        "id": "64FLjwaa0fDa"
      },
      "source": [
        "#### <u> Document Vectors with TfidfVectorizer </u>\n",
        "\n",
        "Word counts are very basic. One issue with simple counts is that some words like \"the\" will appear many times and their large counts will not be very meaningful in the encoded vectors. An alternative is to calculate word frequencies.\n",
        "\n",
        "- Term Frequency: This summarizes how often a given word appears within a document.\n",
        "- Inverse Document Frequency: This downscales words that appear a lot across documents.\n",
        "\n",
        "TF-IDF are word frequency scores that try to highlight words that are more frequent in a document but not across documents.If we already have a learned CountVectorizer, we can use it with a TfidfTransformer to just calculate the inverse document frequencies and start encoding documents. The same create, fit, and transform process is used as with the CountVectorizer."
      ]
    },
    {
      "cell_type": "code",
      "execution_count": null,
      "metadata": {
        "id": "gg3lsQ-g0fDb",
        "outputId": "dcd85ad6-d119-4b57-e709-0c85b347d8fd"
      },
      "outputs": [
        {
          "name": "stdout",
          "output_type": "stream",
          "text": [
            "['age', 'best', 'foolishness', 'it', 'of', 'the', 'times', 'was', 'wisdom', 'worst']\n"
          ]
        }
      ],
      "source": [
        "from sklearn.feature_extraction.text import TfidfVectorizer\n",
        "# list of text documents\n",
        "text = [\"It was the best of times\", \"it was the worst of times\", \"it was the age of wisdom\", \"it was the age of foolishness\"]\n",
        "# create the transform\n",
        "vectorizer = TfidfVectorizer()\n",
        "# tokenize and build vocab\n",
        "vectorizer.fit(text)\n",
        "# summarize\n",
        "print(sorted(vectorizer.vocabulary_))\n",
        "# encode document\n",
        "vector = vectorizer.transform([text[0]])\n"
      ]
    },
    {
      "cell_type": "code",
      "execution_count": null,
      "metadata": {
        "id": "yxrnFjCl0fDb",
        "outputId": "078062eb-ef98-4b2d-f5f8-c10119a005ff"
      },
      "outputs": [
        {
          "name": "stdout",
          "output_type": "stream",
          "text": [
            "[1.51082562 1.91629073 1.91629073 1.         1.         1.\n",
            " 1.51082562 1.         1.91629073 1.91629073]\n"
          ]
        }
      ],
      "source": [
        "print(vectorizer.idf_)"
      ]
    },
    {
      "cell_type": "markdown",
      "metadata": {
        "id": "r9S16wnx0fDc"
      },
      "source": [
        "A vocabulary of 10 words is learned from the documents and each word is assigned a unique integer index in the output vector. The inverse document frequencies are calculated for each word in the vocabulary, assigning the lowest score of 1.0 to the most frequently observed words: \"it\", \"of\", \"the\" , \"was\"."
      ]
    },
    {
      "cell_type": "code",
      "execution_count": null,
      "metadata": {
        "id": "CcxQGELY0fDc",
        "outputId": "c888c7a5-b6e2-4f06-df82-6efce8fd98bd"
      },
      "outputs": [
        {
          "name": "stdout",
          "output_type": "stream",
          "text": [
            "(1, 10)\n",
            "[[0.         0.60735961 0.         0.31694544 0.31694544 0.31694544\n",
            "  0.4788493  0.31694544 0.         0.        ]]\n"
          ]
        }
      ],
      "source": [
        "# summarize encoded vector\n",
        "print(vector.shape)\n",
        "print(vector.toarray())"
      ]
    },
    {
      "cell_type": "markdown",
      "metadata": {
        "id": "LvyD4uVp0fDc"
      },
      "source": [
        "The scores are normalized to values between 0 and 1 and the encoded document vectors can then be used directly with most machine learning algorithms."
      ]
    },
    {
      "cell_type": "markdown",
      "metadata": {
        "id": "84LIHJyD0fDc"
      },
      "source": [
        "#### <u> Document Vectors with HashingVectorizer </u>\n",
        "\n",
        "One limitation with CountVectorizer and TfidfVectorizer is that the encoded vector is returned with a length of the entire vocabulary and an integer count for the number of times each word appeared in the document. Because these vectors contains a lot of zeros(sparse), vocabulary can become very large. This, will require large vectors for encoding documents and impose large requirements on memory and slow down algorithms.\n",
        "\n",
        "HashingVectorizer uses a one way hash of words to convert them to integers. No vocabulary is required and we can choose an arbitrary long fixed length vector. A downside is that the hash is a one-way function so there is no way to convert the encoding back to a word (which may not matter for many supervised learning tasks).\n",
        "\n",
        "HashingVectorizer hash words, then tokenize and encode documents as needed."
      ]
    },
    {
      "cell_type": "code",
      "execution_count": null,
      "metadata": {
        "id": "D1NREdz-0fDc",
        "outputId": "0acb8a57-276f-466a-c190-3258c4ee7cdb"
      },
      "outputs": [
        {
          "name": "stdout",
          "output_type": "stream",
          "text": [
            "(4, 6)\n",
            "[[ 0.40824829  0.          0.         -0.81649658  0.          0.40824829]\n",
            " [ 0.5         0.          0.         -0.5        -0.5         0.5       ]\n",
            " [ 0.70710678  0.          0.          0.          0.          0.70710678]\n",
            " [ 0.          0.70710678  0.          0.          0.          0.70710678]]\n"
          ]
        }
      ],
      "source": [
        "from sklearn.feature_extraction.text import HashingVectorizer\n",
        "# list of text documents\n",
        "text = [\"It was the best of times\", \"it was the worst of times\", \"it was the age of wisdom\", \"it was the age of foolishness\"]\n",
        "# create the transform small number of \"n_features\"  may result in hash collisions\n",
        "vectorizer = HashingVectorizer(n_features=6)\n",
        "# encode document\n",
        "vector = vectorizer.transform(text)\n",
        "# summarize encoded vector\n",
        "print(vector.shape)\n",
        "print(vector.toarray())"
      ]
    },
    {
      "cell_type": "markdown",
      "metadata": {
        "id": "XO5s3KaP0fDd"
      },
      "source": [
        "Running the example encodes the sample document as a 6-element sparse array. The values of the encoded document correspond to normalized word counts by default in the range of -1 to 1, but could be made simple integer counts by changing the default configuration."
      ]
    },
    {
      "cell_type": "markdown",
      "metadata": {
        "id": "JlC6bKWj0fDd"
      },
      "source": [
        "## <u> Bag-of-Words Model in Keras </u>\n",
        "\n",
        "### <u> Design the Vocabulary </u>\n",
        "\"text_to_word_sequence\" Split text into a list of words."
      ]
    },
    {
      "cell_type": "code",
      "execution_count": null,
      "metadata": {
        "id": "UAOKB7_I0fDd",
        "outputId": "47632319-8780-4ff1-c11f-762a8e349653"
      },
      "outputs": [
        {
          "name": "stderr",
          "output_type": "stream",
          "text": [
            "Using TensorFlow backend.\n"
          ]
        },
        {
          "name": "stdout",
          "output_type": "stream",
          "text": [
            "['the', 'quick', 'brown', 'fox', 'jumped', 'over', 'the', 'lazy', 'dog']\n"
          ]
        }
      ],
      "source": [
        "from keras.preprocessing.text import text_to_word_sequence\n",
        "# define the document\n",
        "# text = [\"It was the best of times\", \"it was the worst of times\", \"it was the age of wisdom\", \"it was the age of foolishness\"]\n",
        "text = 'The quick brown fox jumped over the lazy dog.'\n",
        "# tokenize the document\n",
        "result = text_to_word_sequence(text)\n",
        "print(result)"
      ]
    },
    {
      "cell_type": "markdown",
      "metadata": {
        "id": "RppY9gXQ0fDd"
      },
      "source": [
        "### <u> Document Vectors with hashing trick </u>\n",
        "\n",
        "To hashing_trick, in addition to the text, the vocabulary size (total words) must be specified. This could be the total number of words in the document or more if you intend to encode additional documents that contains additional words. The size of the vocabulary defines the hashing space from which words are hashed."
      ]
    },
    {
      "cell_type": "code",
      "execution_count": null,
      "metadata": {
        "id": "F6J6SdAS0fDe",
        "outputId": "6b289411-ded3-4239-e2c9-c7117a4cbd97"
      },
      "outputs": [
        {
          "name": "stdout",
          "output_type": "stream",
          "text": [
            "8\n",
            "[6, 4, 1, 2, 7, 5, 6, 2, 6]\n"
          ]
        }
      ],
      "source": [
        "from keras.preprocessing.text import hashing_trick\n",
        "\n",
        "text = 'The quick brown fox jumped over the lazy dog.'\n",
        "# estimate the size of the vocabulary\n",
        "words = set(text_to_word_sequence(text))\n",
        "vocab_size = len(words)\n",
        "print(vocab_size)\n",
        "# integer encode the document\n",
        "result = hashing_trick(text, round(vocab_size*1.3), hash_function='md5')\n",
        "print(result)"
      ]
    },
    {
      "cell_type": "markdown",
      "metadata": {
        "id": "p0qFjPKs0fDe"
      },
      "source": [
        "### <u>Keras Tokenizer API </u>\n",
        "\n",
        "Keras provides the Tokenizer class for preparing text documents for deep learning. The Tokenizer must be constructed and then fit on either raw text documents or integer encoded text documents."
      ]
    },
    {
      "cell_type": "code",
      "execution_count": null,
      "metadata": {
        "id": "WTWHG1uK0fDe"
      },
      "outputs": [],
      "source": [
        "from keras.preprocessing.text import Tokenizer # define 5 documents\n",
        "docs = [\"It was the best of times\", \"it was the worst of times\", \"it was the age of wisdom\", \"it was the age of foolishness\"] \n",
        "# create the tokenizer\n",
        "tokenizer = Tokenizer()\n",
        "# fit the tokenizer on the documents\n",
        "tokenizer.fit_on_texts(docs)"
      ]
    },
    {
      "cell_type": "markdown",
      "metadata": {
        "id": "O71gIkU20fDe"
      },
      "source": [
        "Once fit, the Tokenizer provides 4 attributes that we can use to query what has been learned about our documents:\n",
        "- <b> word counts </b>: A dictionary of words and their counts.\n",
        "- <b> word docs </b>: An integer count of the total number of documents that were used to fit the Tokenizer.\n",
        "- <b> word index </b>: A dictionary of words and their uniquely assigned integers.\n",
        "- <b> document count </b>: A dictionary of words and how many documents each appeared in."
      ]
    },
    {
      "cell_type": "code",
      "execution_count": null,
      "metadata": {
        "id": "KHBXLLas0fDe",
        "outputId": "e2c79134-1719-477d-a003-12c58cd20526"
      },
      "outputs": [
        {
          "data": {
            "text/plain": [
              "(OrderedDict([('it', 4),\n",
              "              ('was', 4),\n",
              "              ('the', 4),\n",
              "              ('best', 1),\n",
              "              ('of', 4),\n",
              "              ('times', 2),\n",
              "              ('worst', 1),\n",
              "              ('age', 2),\n",
              "              ('wisdom', 1),\n",
              "              ('foolishness', 1)]),\n",
              " 4,\n",
              " {'it': 1,\n",
              "  'was': 2,\n",
              "  'the': 3,\n",
              "  'of': 4,\n",
              "  'times': 5,\n",
              "  'age': 6,\n",
              "  'best': 7,\n",
              "  'worst': 8,\n",
              "  'wisdom': 9,\n",
              "  'foolishness': 10},\n",
              " defaultdict(int,\n",
              "             {'the': 4,\n",
              "              'was': 4,\n",
              "              'times': 2,\n",
              "              'of': 4,\n",
              "              'best': 1,\n",
              "              'it': 4,\n",
              "              'worst': 1,\n",
              "              'age': 2,\n",
              "              'wisdom': 1,\n",
              "              'foolishness': 1}))"
            ]
          },
          "execution_count": 11,
          "metadata": {},
          "output_type": "execute_result"
        }
      ],
      "source": [
        "tokenizer.word_counts, tokenizer.document_count, tokenizer.word_index, tokenizer.word_docs"
      ]
    },
    {
      "cell_type": "markdown",
      "metadata": {
        "id": "-XgWu-S20fDf"
      },
      "source": [
        "Once the Tokenizer has been fit on training data, it can be used to encode documents in the train or test datasets.\n",
        "The modes available include:\n",
        "- binary: Whether or not each word is present in the document. This is the default.\n",
        "- count: The count of each word in the document.\n",
        "- tfidf: The Text Frequency-Inverse DocumentFrequency (TF-IDF) scoring for each word in the document.\n",
        "- freq: The frequency of each word as a ratio of words within each document."
      ]
    },
    {
      "cell_type": "code",
      "execution_count": null,
      "metadata": {
        "id": "VT2dcOWd0fDf",
        "outputId": "475eea75-a286-4f91-ed89-f57e83888e07"
      },
      "outputs": [
        {
          "data": {
            "text/plain": [
              "array([[0., 1., 1., 1., 1., 1., 0., 1., 0., 0., 0.],\n",
              "       [0., 1., 1., 1., 1., 1., 0., 0., 1., 0., 0.],\n",
              "       [0., 1., 1., 1., 1., 0., 1., 0., 0., 1., 0.],\n",
              "       [0., 1., 1., 1., 1., 0., 1., 0., 0., 0., 1.]])"
            ]
          },
          "execution_count": 12,
          "metadata": {},
          "output_type": "execute_result"
        }
      ],
      "source": [
        "encoded_docs = tokenizer.texts_to_matrix(docs, mode='count')\n",
        "encoded_docs"
      ]
    },
    {
      "cell_type": "markdown",
      "metadata": {
        "id": "_Mha3A7i0fDf"
      },
      "source": [
        "### Bonus\n",
        "\n",
        "### <u> N - Grams </u>\n",
        "\n",
        "A vocabulary of grouped words can be created. This allows the bag-of-words to capture a little bit more meaning from the document. In this approach, each word or token is called a gram. Creating a vocabulary of two-word pairs is called a bigram model. An n-gram is an n-token sequence of words.\n",
        "\n",
        "Example Text : It was the best of times\n",
        "\n",
        "$\\text {it was }  $  <br/>\n",
        "$\\text {was the }$ <br/>\n",
        "$\\text {the best }$ <br/>\n",
        "$\\text {best of }$ <br/>\n",
        "$\\text {of times }$"
      ]
    },
    {
      "cell_type": "markdown",
      "metadata": {
        "id": "7Mbcj6mY0fDf"
      },
      "source": [
        "### End\n",
        "If you reached this far please comment and upvote this kernel, feel free to make improvements on the kernel and please share if you found anything useful !"
      ]
    }
  ],
  "metadata": {
    "kernelspec": {
      "display_name": "Python 3",
      "language": "python",
      "name": "python3"
    },
    "language_info": {
      "codemirror_mode": {
        "name": "ipython",
        "version": 3
      },
      "file_extension": ".py",
      "mimetype": "text/x-python",
      "name": "python",
      "nbconvert_exporter": "python",
      "pygments_lexer": "ipython3",
      "version": "3.6.6"
    },
    "colab": {
      "name": "Day 3 - Bag of Words.ipynb",
      "provenance": [],
      "collapsed_sections": [],
      "include_colab_link": true
    }
  },
  "nbformat": 4,
  "nbformat_minor": 0
}